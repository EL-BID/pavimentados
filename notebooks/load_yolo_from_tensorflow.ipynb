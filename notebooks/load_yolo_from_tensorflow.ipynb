{
 "cells": [
  {
   "cell_type": "code",
   "execution_count": 1,
   "id": "e0b1021a-1bf9-4990-94f8-245a1e1591f8",
   "metadata": {},
   "outputs": [],
   "source": [
    "from ultralytics import YOLO\n",
    "\n",
    "model_name = \"../models/artifacts/signal_model/yolov8/signals_best\""
   ]
  },
  {
   "cell_type": "code",
   "execution_count": 2,
   "id": "ab68754c-51ba-44e7-9811-fb54a5ae6820",
   "metadata": {},
   "outputs": [],
   "source": [
    "export_model_path = \"/home/vvv/Develop/bid/pavimentados/notebooks/yolov8-road-damage-5classes-240709-2132/checkpoints/train/weights/best.pt\"\n",
    "model = YOLO(export_model_path, task='detect')"
   ]
  },
  {
   "cell_type": "code",
   "execution_count": 8,
   "id": "cb473cc3-722b-42bd-8612-c0371adff0b3",
   "metadata": {
    "scrolled": true
   },
   "outputs": [
    {
     "data": {
      "text/plain": [
       "{0: 'BA00', 1: 'BC00', 2: 'FL00', 3: 'FT00', 4: 'PC00'}"
      ]
     },
     "execution_count": 8,
     "metadata": {},
     "output_type": "execute_result"
    }
   ],
   "source": [
    "model.names"
   ]
  },
  {
   "cell_type": "code",
   "execution_count": null,
   "id": "5c750bc6-fc90-4823-b9aa-0e33d6523f94",
   "metadata": {},
   "outputs": [],
   "source": []
  },
  {
   "cell_type": "code",
   "execution_count": null,
   "id": "68af5ba7-d62f-4c2a-a510-ea5cadc4e875",
   "metadata": {},
   "outputs": [],
   "source": []
  },
  {
   "cell_type": "markdown",
   "id": "e52bea73-19e2-482b-be3b-20645c6606d2",
   "metadata": {},
   "source": [
    "### YOLO export"
   ]
  },
  {
   "cell_type": "code",
   "execution_count": null,
   "id": "760b5d59-63c4-41da-94bb-fdb7eb4058f2",
   "metadata": {},
   "outputs": [],
   "source": [
    "model = YOLO(f\"{model_name}.pt\")\n",
    "model.export(format=\"onnx\", simplify=True)"
   ]
  },
  {
   "cell_type": "markdown",
   "id": "52ae3e88-ce21-4a2a-851d-ceee6bc8db40",
   "metadata": {},
   "source": [
    "### YOLO load"
   ]
  },
  {
   "cell_type": "code",
   "execution_count": null,
   "id": "5e377524-a21a-40bb-9ae3-5c2ab5ff1411",
   "metadata": {},
   "outputs": [],
   "source": [
    "import numpy as np\n",
    "images = np.load(\"images.npz\")\n",
    "images = images['batch']"
   ]
  },
  {
   "cell_type": "code",
   "execution_count": null,
   "id": "4c9939b6-9605-4974-ad66-03e0648e8f15",
   "metadata": {},
   "outputs": [],
   "source": [
    "export_model_path = f\"./{model_name}.pt\"\n",
    "model = YOLO(export_model_path, task='detect')\n",
    "results = model(list(images), conf=0.2, iou=0.2)"
   ]
  },
  {
   "cell_type": "code",
   "execution_count": null,
   "id": "8245183a-5c63-4ca3-bf5d-01994bc4fb79",
   "metadata": {},
   "outputs": [],
   "source": [
    "results[0].boxes"
   ]
  },
  {
   "cell_type": "code",
   "execution_count": null,
   "id": "9369c5e6-1baa-4757-bd09-c9bd0085666d",
   "metadata": {},
   "outputs": [],
   "source": [
    "boxes = [r.boxes.xyxy.int().tolist() for r in results]\n",
    "classes = [r.boxes.cls.int().tolist() for r in results]\n",
    "conf = [r.boxes.conf.numpy().tolist() for r in results]"
   ]
  },
  {
   "cell_type": "code",
   "execution_count": null,
   "id": "b71a9d2a-2466-42fe-8acf-965e1dea7878",
   "metadata": {},
   "outputs": [],
   "source": [
    "print(boxes)\n",
    "print(classes)\n",
    "print(conf)"
   ]
  },
  {
   "cell_type": "code",
   "execution_count": null,
   "id": "4fd14e94-4037-4dce-814b-81e0d2c4c29c",
   "metadata": {},
   "outputs": [],
   "source": [
    "[result.show() for result in results]"
   ]
  },
  {
   "cell_type": "markdown",
   "id": "610f1623-342d-4243-b105-fe644acd5ad1",
   "metadata": {},
   "source": [
    "### ONNX"
   ]
  },
  {
   "cell_type": "code",
   "execution_count": null,
   "id": "619c30c2-0b97-421a-a8d6-85b3a2815cb4",
   "metadata": {},
   "outputs": [],
   "source": [
    "import argparse\n",
    "\n",
    "import cv2\n",
    "import numpy as np\n",
    "import onnxruntime as ort\n",
    "import torch\n",
    "\n",
    "from ultralytics.utils.checks import check_requirements"
   ]
  },
  {
   "cell_type": "code",
   "execution_count": null,
   "id": "2378c710-e1f6-4e0b-a6d8-9adf0a64ad69",
   "metadata": {},
   "outputs": [],
   "source": [
    "class YOLOv8:\n",
    "    \"\"\"YOLOv8 object detection model class for handling inference and visualization.\"\"\"\n",
    "\n",
    "    def __init__(self, classes: list[str], model_file, confidence_thres: float=0.1, iou_thres: float=0.1):\n",
    "        \"\"\"\n",
    "        Initializes an instance of the YOLOv8 class.\n",
    "\n",
    "        Args:\n",
    "            model_file: Path to the model.\n",
    "            confidence_thres: Confidence threshold for filtering detections.\n",
    "            iou_thres: IoU (Intersection over Union) threshold for non-maximum suppression.\n",
    "        \"\"\"\n",
    "        self.onnx_model = model_file\n",
    "        self.confidence_thres = confidence_thres\n",
    "        self.iou_thres = iou_thres\n",
    "        self.classes = classes\n",
    "\n",
    "        # Generate a color palette for the classes\n",
    "        self.color_palette = np.random.uniform(0, 255, size=(len(self.classes), 3))\n",
    "\n",
    "        # Create an inference session using the ONNX model and specify execution providers\n",
    "        self.ort_session = ort.InferenceSession(self.onnx_model, providers=[\"CUDAExecutionProvider\", \"CoreMLExecutionProvider\", \"CPUExecutionProvider\"])\n",
    "        print(f\"Device: {ort.get_device()}\")\n",
    "\n",
    "        # Get the model inputs\n",
    "        self.model_inputs = self.ort_session.get_inputs()\n",
    "\n",
    "        # Store the shape of the input for later use\n",
    "        self.input_shape = self.model_inputs[0].shape\n",
    "        self.input_width = self.input_shape[2]\n",
    "        self.input_height = self.input_shape[3]\n",
    "\n",
    "    def draw_detections(self, img, box, score, class_id):\n",
    "        \"\"\"\n",
    "        Draws bounding boxes and labels on the input image based on the detected objects.\n",
    "\n",
    "        Args:\n",
    "            img: The input image to draw detections on.\n",
    "            box: Detected bounding box.\n",
    "            score: Corresponding detection score.\n",
    "            class_id: Class ID for the detected object.\n",
    "\n",
    "        Returns:\n",
    "            None\n",
    "        \"\"\"\n",
    "\n",
    "        # Extract the coordinates of the bounding box\n",
    "        x1, y1, w, h = box\n",
    "\n",
    "        # Retrieve the color for the class ID\n",
    "        color = self.color_palette[class_id]\n",
    "\n",
    "        # Draw the bounding box on the image\n",
    "        cv2.rectangle(img, (int(x1), int(y1)), (int(x1 + w), int(y1 + h)), color, 2)\n",
    "\n",
    "        # Create the label text with class name and score\n",
    "        label = f\"{self.classes[class_id]}: {score:.2f}\"\n",
    "\n",
    "        # Calculate the dimensions of the label text\n",
    "        (label_width, label_height), _ = cv2.getTextSize(label, cv2.FONT_HERSHEY_SIMPLEX, 0.5, 1)\n",
    "\n",
    "        # Calculate the position of the label text\n",
    "        label_x = x1\n",
    "        label_y = y1 - 10 if y1 - 10 > label_height else y1 + 10\n",
    "\n",
    "        # Draw a filled rectangle as the background for the label text\n",
    "        cv2.rectangle(\n",
    "            img, (label_x, label_y - label_height), (label_x + label_width, label_y + label_height), color, cv2.FILLED\n",
    "        )\n",
    "\n",
    "        # Draw the label text on the image\n",
    "        cv2.putText(img, label, (label_x, label_y), cv2.FONT_HERSHEY_SIMPLEX, 0.5, (0, 0, 0), 1, cv2.LINE_AA)\n",
    "\n",
    "    def preprocess(self, input_image):\n",
    "        \"\"\"\n",
    "        Preprocesses the input image before performing inference.\n",
    "\n",
    "        Returns:\n",
    "            image_data: Preprocessed image data ready for inference.\n",
    "        \"\"\"\n",
    "        # Get the height and width of the input image\n",
    "        img_height, img_width = input_image.shape[:2]\n",
    "\n",
    "        # Convert the image color space from BGR to RGB\n",
    "        img = cv2.cvtColor(input_image, cv2.COLOR_BGR2RGB)\n",
    "\n",
    "        # Resize the image to match the input shape\n",
    "        img = cv2.resize(img, (self.input_width, self.input_height))\n",
    "\n",
    "        # Normalize the image data by dividing it by 255.0\n",
    "        image_data = np.array(img) / 255.0\n",
    "\n",
    "        # Transpose the image to have the channel dimension as the first dimension\n",
    "        image_data = np.transpose(image_data, (2, 0, 1))  # Channel first\n",
    "\n",
    "        # Expand the dimensions of the image data to match the expected input shape\n",
    "        image_data = np.expand_dims(image_data, axis=0).astype(np.float32)\n",
    "\n",
    "        # Return the preprocessed image data\n",
    "        return image_data\n",
    "\n",
    "    def postprocess(self, input_image, output):\n",
    "        \"\"\"\n",
    "        Performs post-processing on the model's output to extract bounding boxes, scores, and class IDs.\n",
    "\n",
    "        Args:\n",
    "            input_image (numpy.ndarray): The input image.\n",
    "            output (numpy.ndarray): The output of the model.\n",
    "\n",
    "        Returns:\n",
    "            numpy.ndarray: The input image with detections drawn on it.\n",
    "        \"\"\"\n",
    "        # Get the height and width of the input image\n",
    "        img_height, img_width = input_image.shape[:2]\n",
    "\n",
    "        # Transpose and squeeze the output to match the expected shape\n",
    "        outputs = np.transpose(np.squeeze(output[0]))\n",
    "\n",
    "        # Get the number of rows in the outputs array\n",
    "        rows = outputs.shape[0]\n",
    "\n",
    "        # Lists to store the bounding boxes, scores, and class IDs of the detections\n",
    "        boxes = []\n",
    "        scores = []\n",
    "        class_ids = []\n",
    "\n",
    "        # Calculate the scaling factors for the bounding box coordinates\n",
    "        x_factor = img_width / self.input_width\n",
    "        y_factor = img_height / self.input_height\n",
    "\n",
    "        # Iterate over each row in the outputs array\n",
    "        for i in range(rows):\n",
    "            # Extract the class scores from the current row\n",
    "            classes_scores = outputs[i][4:]\n",
    "\n",
    "            # Find the maximum score among the class scores\n",
    "            max_score = np.amax(classes_scores)\n",
    "\n",
    "            # If the maximum score is above the confidence threshold\n",
    "            if max_score >= self.confidence_thres:\n",
    "                # Get the class ID with the highest score\n",
    "                class_id = np.argmax(classes_scores)\n",
    "\n",
    "                # Extract the bounding box coordinates from the current row\n",
    "                x, y, w, h = outputs[i][0], outputs[i][1], outputs[i][2], outputs[i][3]\n",
    "\n",
    "                # Calculate the scaled coordinates of the bounding box\n",
    "                left = int((x - w / 2) * x_factor)\n",
    "                top = int((y - h / 2) * y_factor)\n",
    "                width = int(w * x_factor)\n",
    "                height = int(h * y_factor)\n",
    "\n",
    "                # Add the class ID, score, and box coordinates to the respective lists\n",
    "                class_ids.append(class_id)\n",
    "                scores.append(max_score)\n",
    "                boxes.append([left, top, width, height])\n",
    "\n",
    "        # Apply non-maximum suppression to filter out overlapping bounding boxes\n",
    "        indices = cv2.dnn.NMSBoxes(boxes, scores, self.confidence_thres, self.iou_thres)\n",
    "\n",
    "        detections = []\n",
    "        \n",
    "        # Iterate over the selected indices after non-maximum suppression\n",
    "        for i in indices:\n",
    "            # Get the box, score, and class ID corresponding to the index\n",
    "            box = boxes[i]\n",
    "            score = scores[i]\n",
    "            class_id = class_ids[i]\n",
    "            detections.append({\n",
    "                'cls': class_id,\n",
    "                'box': box,\n",
    "                'score': score,                \n",
    "                \n",
    "            })\n",
    "\n",
    "            # Draw the detection on the input image\n",
    "            self.draw_detections(input_image, box, score, class_id)\n",
    "\n",
    "        # Return the modified input image\n",
    "        return {'img': input_image, 'boxes': detections}\n",
    "\n",
    "    def predict(self, input_image):\n",
    "        # Preprocess the image data\n",
    "        img_data = self.preprocess(input_image)\n",
    "\n",
    "        # Run inference using the preprocessed image data\n",
    "        outputs = self.ort_session.run(None, {self.model_inputs[0].name: img_data})\n",
    "\n",
    "        # Perform post-processing on the outputs to obtain output image.\n",
    "        return self.postprocess(input_image, outputs)"
   ]
  },
  {
   "cell_type": "markdown",
   "id": "245532fb-8e0d-4a91-9dc9-1475651d80b4",
   "metadata": {},
   "source": [
    "### Test"
   ]
  },
  {
   "cell_type": "code",
   "execution_count": null,
   "id": "b486d8d9-6d9e-461b-b7cf-b41ffcb327af",
   "metadata": {},
   "outputs": [],
   "source": [
    "# Check the requirements and select the appropriate backend (CPU or GPU)\n",
    "check_requirements(\"onnxruntime-gpu\" if torch.cuda.is_available() else \"onnxruntime\")\n",
    "\n",
    "# Create an instance of the YOLOv8 class with the specified arguments\n",
    "classes = ['OTRO']\n",
    "detection = YOLOv8(classes, f\"{model_name}.onnx\", 0.2, 0.2)"
   ]
  },
  {
   "cell_type": "code",
   "execution_count": null,
   "id": "4c4cd076-7c78-41ea-abbb-2f3365624647",
   "metadata": {},
   "outputs": [],
   "source": [
    "# Perform object detection and obtain the output image\n",
    "img = cv2.imread('bus.jpg')\n",
    "detections = detection.predict(img)"
   ]
  },
  {
   "cell_type": "code",
   "execution_count": null,
   "id": "f0273d8e-20d1-4bc8-adac-3de784d60fbd",
   "metadata": {},
   "outputs": [],
   "source": [
    "detections[\"boxes\"]"
   ]
  },
  {
   "cell_type": "code",
   "execution_count": null,
   "id": "65d739c7-7cea-4576-9b4b-6b6a83cc0153",
   "metadata": {},
   "outputs": [],
   "source": [
    "from PIL import Image\n",
    "import cv2 as cv\n",
    "Image.fromarray(cv.cvtColor(detections['img'], cv.COLOR_BGR2RGB))"
   ]
  },
  {
   "cell_type": "code",
   "execution_count": null,
   "id": "ac2518e9-0525-4c42-8c89-6eb44f500b14",
   "metadata": {},
   "outputs": [],
   "source": []
  }
 ],
 "metadata": {
  "kernelspec": {
   "display_name": "Python 3 (ipykernel)",
   "language": "python",
   "name": "python3"
  },
  "language_info": {
   "codemirror_mode": {
    "name": "ipython",
    "version": 3
   },
   "file_extension": ".py",
   "mimetype": "text/x-python",
   "name": "python",
   "nbconvert_exporter": "python",
   "pygments_lexer": "ipython3",
   "version": "3.10.8"
  }
 },
 "nbformat": 4,
 "nbformat_minor": 5
}
